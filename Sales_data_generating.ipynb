{
 "cells": [
  {
   "cell_type": "markdown",
   "id": "ff1c460a",
   "metadata": {},
   "source": [
    "# This is the final version, with fixed shipping costs for each locations and same prices for each different products"
   ]
  },
  {
   "cell_type": "code",
   "execution_count": 4,
   "id": "b3058246",
   "metadata": {},
   "outputs": [
    {
     "name": "stdout",
     "output_type": "stream",
     "text": [
      "Products:\n",
      "   Price  ProductID ProductName\n",
      "0  179.9          1      Laptop\n",
      "1  119.9          2  Smartphone\n",
      "2  199.9          3          TV\n",
      "3   49.9          4  Headphones\n",
      "4   99.9          5      Tablet\n",
      "5  149.9          6      Camera\n",
      "\n",
      "Customers:\n",
      "   CustomerID      CustomerName       Location\n",
      "0           1  Elizabeth Reeves           Asia\n",
      "1           2       Brian Cantu           Asia\n",
      "2           3   Melissa Fuentes           Asia\n",
      "3           4   Jessica Skinner  North America\n",
      "4           5     Sheri Aguilar         Europe\n",
      "\n",
      "Orders:\n",
      "   CustomerID  OrderDate  OrderID  ShippingCost\n",
      "0           3 2021-01-01        1            20\n",
      "1          18 2021-01-02        2            15\n",
      "2           9 2021-01-03        3             5\n",
      "3          50 2021-01-04        4            15\n",
      "4          25 2021-01-05        5            20\n",
      "\n",
      "Sales:\n",
      "   OrderID  ProductID  Quantity\n",
      "0      682          2         8\n",
      "1      617          5         9\n",
      "2       18          5         1\n",
      "3      860          4         1\n",
      "4      649          3         2\n"
     ]
    }
   ],
   "source": [
    "import pandas as pd\n",
    "import numpy as np\n",
    "from faker import Faker\n",
    "\n",
    "# Define the number of rows for each table\n",
    "num_customers = 50\n",
    "num_orders = 1000\n",
    "\n",
    "# Create Products DataFrame\n",
    "products_data = {\n",
    "    'ProductID': range(1, 7),\n",
    "    'ProductName': ['Laptop', 'Smartphone', 'TV', 'Headphones', 'Tablet', 'Camera'],\n",
    "    'Price': [179.9, 119.9, 199.9, 49.9, 99.9, 149.9]\n",
    "}\n",
    "\n",
    "\n",
    "products = pd.DataFrame(products_data)\n",
    "\n",
    "# Create Customers DataFrame\n",
    "# Create a Faker instance\n",
    "fake = Faker()\n",
    "\n",
    "# Generate random customer names and locations\n",
    "customer_names = [fake.name() for _ in range(num_customers)]\n",
    "locations = np.random.choice(['Europe', 'Asia', 'North America'], num_customers)\n",
    "\n",
    "# Create a DataFrame with customer names and locations\n",
    "customers_data = {\n",
    "    'CustomerID': range(1, num_customers + 1),\n",
    "    'CustomerName': customer_names,\n",
    "    'Location': locations\n",
    "}\n",
    "\n",
    "customers = pd.DataFrame(customers_data)\n",
    "\n",
    "# Create Orders DataFrame\n",
    "orders_data = {\n",
    "    'OrderID': range(1, num_orders + 1),\n",
    "    'CustomerID': np.random.choice(customers['CustomerID'], num_orders),\n",
    "    'OrderDate': pd.date_range(start='2021-01-01', periods=num_orders),\n",
    "    \n",
    "}\n",
    "orders_data['ShippingCost'] = np.where(customers.loc[orders_data['CustomerID'] - 1, 'Location'] == 'Asia', 20,\n",
    "                                       np.where(customers.loc[orders_data['CustomerID'] - 1, 'Location'] == 'North America', 15, 5))\n",
    "\n",
    "orders = pd.DataFrame(orders_data)\n",
    "\n",
    "# Create Sales DataFrame\n",
    "sales_data = {\n",
    "    'OrderID': np.random.choice(orders['OrderID'], num_orders),\n",
    "    'ProductID': np.random.choice(products['ProductID'], num_orders),\n",
    "    'Quantity': np.random.randint(1, 10, num_orders)\n",
    "}\n",
    "\n",
    "\n",
    "sales = pd.DataFrame(sales_data)\n",
    "\n",
    "# Display the first few rows of each DataFrame\n",
    "print(\"Products:\")\n",
    "print(products)\n",
    "\n",
    "print(\"\\nCustomers:\")\n",
    "print(customers.head())\n",
    "\n",
    "print(\"\\nOrders:\")\n",
    "print(orders.head())\n",
    "\n",
    "print(\"\\nSales:\")\n",
    "print(sales.head())\n"
   ]
  },
  {
   "cell_type": "markdown",
   "id": "5650d0a1",
   "metadata": {},
   "source": [
    "# Exporting the data into .csv files"
   ]
  },
  {
   "cell_type": "code",
   "execution_count": 5,
   "id": "fdc9757c",
   "metadata": {},
   "outputs": [],
   "source": [
    "# Export DataFrames to CSV files\n",
    "products.to_csv('products.csv', index=False)\n",
    "customers.to_csv('customers.csv', index=False)\n",
    "orders.to_csv('orders.csv', index=False)\n",
    "sales.to_csv('sales.csv', index=False)"
   ]
  },
  {
   "cell_type": "markdown",
   "id": "824ed96d",
   "metadata": {},
   "source": [
    "# Fake name generator with location and customer_id"
   ]
  },
  {
   "cell_type": "code",
   "execution_count": 2,
   "id": "2e267485",
   "metadata": {},
   "outputs": [
    {
     "name": "stdout",
     "output_type": "stream",
     "text": [
      "   CustomerID        CustomerName\n",
      "0           1      Benjamin Perry\n",
      "1           2        James Miller\n",
      "2           3  Mr. Jerome Bradley\n",
      "3           4         Erik Hanson\n",
      "4           5        Steven Miles\n"
     ]
    }
   ],
   "source": [
    "from faker import Faker\n",
    "import pandas as pd\n",
    "\n",
    "# Create a Faker instance\n",
    "fake = Faker()\n",
    "\n",
    "# Specify the number of random names you want to generate\n",
    "num_customers = 50\n",
    "\n",
    "# Generate random customer names\n",
    "customer_names = [fake.name() for _ in range(num_customers)]\n",
    "\n",
    "# Create a DataFrame with customer names\n",
    "customers_data = {\n",
    "    'CustomerID': range(1, num_customers + 1),\n",
    "    'CustomerName': customer_names\n",
    "}\n",
    "\n",
    "customers = pd.DataFrame(customers_data)\n",
    "\n",
    "# Display the DataFrame\n",
    "print(customers.head())\n"
   ]
  },
  {
   "cell_type": "code",
   "execution_count": 3,
   "id": "ba939275",
   "metadata": {},
   "outputs": [
    {
     "name": "stdout",
     "output_type": "stream",
     "text": [
      "   CustomerID   CustomerName       Location\n",
      "0           1   Mark Kennedy  North America\n",
      "1           2   Edward Lloyd  North America\n",
      "2           3  Kristen White         Europe\n",
      "3           4    Larry Owens  North America\n",
      "4           5  Dennis Bowman         Europe\n"
     ]
    }
   ],
   "source": [
    "from faker import Faker\n",
    "import pandas as pd\n",
    "import numpy as np\n",
    "\n",
    "# Create a Faker instance\n",
    "fake = Faker()\n",
    "\n",
    "# Specify the number of random names you want to generate\n",
    "num_customers = 50\n",
    "\n",
    "# Generate random customer names and locations\n",
    "customer_names = [fake.name() for _ in range(num_customers)]\n",
    "locations = np.random.choice(['Europe', 'Asia', 'North America'], num_customers)\n",
    "\n",
    "# Create a DataFrame with customer names and locations\n",
    "customers_data = {\n",
    "    'CustomerID': range(1, num_customers + 1),\n",
    "    'CustomerName': customer_names,\n",
    "    'Location': locations\n",
    "}\n",
    "\n",
    "customers = pd.DataFrame(customers_data)\n",
    "\n",
    "# Display the DataFrame\n",
    "print(customers.head())\n"
   ]
  }
 ],
 "metadata": {
  "kernelspec": {
   "display_name": "Python 3",
   "language": "python",
   "name": "python3"
  },
  "language_info": {
   "codemirror_mode": {
    "name": "ipython",
    "version": 3
   },
   "file_extension": ".py",
   "mimetype": "text/x-python",
   "name": "python",
   "nbconvert_exporter": "python",
   "pygments_lexer": "ipython3",
   "version": "3.6.9"
  }
 },
 "nbformat": 4,
 "nbformat_minor": 5
}
